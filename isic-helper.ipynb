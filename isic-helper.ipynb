{
 "cells": [
  {
   "cell_type": "code",
   "execution_count": 1,
   "id": "444f8adf",
   "metadata": {
    "collapsed": true,
    "execution": {
     "iopub.execute_input": "2024-09-06T21:45:18.135026Z",
     "iopub.status.busy": "2024-09-06T21:45:18.133665Z",
     "iopub.status.idle": "2024-09-06T21:45:39.436115Z",
     "shell.execute_reply": "2024-09-06T21:45:39.434158Z"
    },
    "jupyter": {
     "outputs_hidden": true
    },
    "papermill": {
     "duration": 21.313922,
     "end_time": "2024-09-06T21:45:39.439372",
     "exception": false,
     "start_time": "2024-09-06T21:45:18.125450",
     "status": "completed"
    },
    "tags": []
   },
   "outputs": [
    {
     "name": "stdout",
     "output_type": "stream",
     "text": [
      "Collecting nbdev\r\n",
      "  Downloading nbdev-2.3.29-py3-none-any.whl.metadata (10 kB)\r\n",
      "Requirement already satisfied: packaging in /opt/conda/lib/python3.10/site-packages (from nbdev) (21.3)\r\n",
      "Requirement already satisfied: fastcore>=1.5.27 in /opt/conda/lib/python3.10/site-packages (from nbdev) (1.5.55)\r\n",
      "Collecting execnb>=0.1.4 (from nbdev)\r\n",
      "  Downloading execnb-0.1.6-py3-none-any.whl.metadata (3.2 kB)\r\n",
      "Requirement already satisfied: astunparse in /opt/conda/lib/python3.10/site-packages (from nbdev) (1.6.3)\r\n",
      "Collecting ghapi>=1.0.3 (from nbdev)\r\n",
      "  Downloading ghapi-1.0.6-py3-none-any.whl.metadata (13 kB)\r\n",
      "Collecting watchdog (from nbdev)\r\n",
      "  Downloading watchdog-5.0.2-py3-none-manylinux2014_x86_64.whl.metadata (41 kB)\r\n",
      "\u001b[2K     \u001b[90m━━━━━━━━━━━━━━━━━━━━━━━━━━━━━━━━━━━━━━━━\u001b[0m \u001b[32m41.6/41.6 kB\u001b[0m \u001b[31m1.3 MB/s\u001b[0m eta \u001b[36m0:00:00\u001b[0m\r\n",
      "\u001b[?25hRequirement already satisfied: asttokens in /opt/conda/lib/python3.10/site-packages (from nbdev) (2.4.1)\r\n",
      "Requirement already satisfied: PyYAML in /opt/conda/lib/python3.10/site-packages (from nbdev) (6.0.2)\r\n",
      "Requirement already satisfied: ipython in /opt/conda/lib/python3.10/site-packages (from execnb>=0.1.4->nbdev) (8.21.0)\r\n",
      "Collecting fastcore>=1.5.27 (from nbdev)\r\n",
      "  Downloading fastcore-1.7.4-py3-none-any.whl.metadata (3.4 kB)\r\n",
      "Requirement already satisfied: six>=1.12.0 in /opt/conda/lib/python3.10/site-packages (from asttokens->nbdev) (1.16.0)\r\n",
      "Requirement already satisfied: wheel<1.0,>=0.23.0 in /opt/conda/lib/python3.10/site-packages (from astunparse->nbdev) (0.43.0)\r\n",
      "Requirement already satisfied: pyparsing!=3.0.5,>=2.0.2 in /opt/conda/lib/python3.10/site-packages (from packaging->nbdev) (3.1.2)\r\n",
      "Requirement already satisfied: decorator in /opt/conda/lib/python3.10/site-packages (from ipython->execnb>=0.1.4->nbdev) (5.1.1)\r\n",
      "Requirement already satisfied: jedi>=0.16 in /opt/conda/lib/python3.10/site-packages (from ipython->execnb>=0.1.4->nbdev) (0.19.1)\r\n",
      "Requirement already satisfied: matplotlib-inline in /opt/conda/lib/python3.10/site-packages (from ipython->execnb>=0.1.4->nbdev) (0.1.7)\r\n",
      "Requirement already satisfied: prompt-toolkit<3.1.0,>=3.0.41 in /opt/conda/lib/python3.10/site-packages (from ipython->execnb>=0.1.4->nbdev) (3.0.47)\r\n",
      "Requirement already satisfied: pygments>=2.4.0 in /opt/conda/lib/python3.10/site-packages (from ipython->execnb>=0.1.4->nbdev) (2.18.0)\r\n",
      "Requirement already satisfied: stack-data in /opt/conda/lib/python3.10/site-packages (from ipython->execnb>=0.1.4->nbdev) (0.6.2)\r\n",
      "Requirement already satisfied: traitlets>=5 in /opt/conda/lib/python3.10/site-packages (from ipython->execnb>=0.1.4->nbdev) (5.14.3)\r\n",
      "Requirement already satisfied: exceptiongroup in /opt/conda/lib/python3.10/site-packages (from ipython->execnb>=0.1.4->nbdev) (1.2.0)\r\n",
      "Requirement already satisfied: pexpect>4.3 in /opt/conda/lib/python3.10/site-packages (from ipython->execnb>=0.1.4->nbdev) (4.9.0)\r\n",
      "Requirement already satisfied: parso<0.9.0,>=0.8.3 in /opt/conda/lib/python3.10/site-packages (from jedi>=0.16->ipython->execnb>=0.1.4->nbdev) (0.8.4)\r\n",
      "Requirement already satisfied: ptyprocess>=0.5 in /opt/conda/lib/python3.10/site-packages (from pexpect>4.3->ipython->execnb>=0.1.4->nbdev) (0.7.0)\r\n",
      "Requirement already satisfied: wcwidth in /opt/conda/lib/python3.10/site-packages (from prompt-toolkit<3.1.0,>=3.0.41->ipython->execnb>=0.1.4->nbdev) (0.2.13)\r\n",
      "Requirement already satisfied: executing>=1.2.0 in /opt/conda/lib/python3.10/site-packages (from stack-data->ipython->execnb>=0.1.4->nbdev) (2.0.1)\r\n",
      "Requirement already satisfied: pure-eval in /opt/conda/lib/python3.10/site-packages (from stack-data->ipython->execnb>=0.1.4->nbdev) (0.2.2)\r\n",
      "Downloading nbdev-2.3.29-py3-none-any.whl (67 kB)\r\n",
      "\u001b[2K   \u001b[90m━━━━━━━━━━━━━━━━━━━━━━━━━━━━━━━━━━━━━━━━\u001b[0m \u001b[32m67.2/67.2 kB\u001b[0m \u001b[31m1.7 MB/s\u001b[0m eta \u001b[36m0:00:00\u001b[0m\r\n",
      "\u001b[?25hDownloading execnb-0.1.6-py3-none-any.whl (14 kB)\r\n",
      "Downloading ghapi-1.0.6-py3-none-any.whl (62 kB)\r\n",
      "\u001b[2K   \u001b[90m━━━━━━━━━━━━━━━━━━━━━━━━━━━━━━━━━━━━━━━━\u001b[0m \u001b[32m62.4/62.4 kB\u001b[0m \u001b[31m1.8 MB/s\u001b[0m eta \u001b[36m0:00:00\u001b[0m\r\n",
      "\u001b[?25hDownloading fastcore-1.7.4-py3-none-any.whl (79 kB)\r\n",
      "\u001b[2K   \u001b[90m━━━━━━━━━━━━━━━━━━━━━━━━━━━━━━━━━━━━━━━━\u001b[0m \u001b[32m79.6/79.6 kB\u001b[0m \u001b[31m2.7 MB/s\u001b[0m eta \u001b[36m0:00:00\u001b[0m\r\n",
      "\u001b[?25hDownloading watchdog-5.0.2-py3-none-manylinux2014_x86_64.whl (78 kB)\r\n",
      "\u001b[2K   \u001b[90m━━━━━━━━━━━━━━━━━━━━━━━━━━━━━━━━━━━━━━━━\u001b[0m \u001b[32m79.0/79.0 kB\u001b[0m \u001b[31m2.9 MB/s\u001b[0m eta \u001b[36m0:00:00\u001b[0m\r\n",
      "\u001b[?25hInstalling collected packages: watchdog, fastcore, ghapi, execnb, nbdev\r\n",
      "  Attempting uninstall: fastcore\r\n",
      "    Found existing installation: fastcore 1.5.55\r\n",
      "    Uninstalling fastcore-1.5.55:\r\n",
      "      Successfully uninstalled fastcore-1.5.55\r\n",
      "\u001b[31mERROR: pip's dependency resolver does not currently take into account all the packages that are installed. This behaviour is the source of the following dependency conflicts.\r\n",
      "fastai 2.7.16 requires fastcore<1.6,>=1.5.29, but you have fastcore 1.7.4 which is incompatible.\u001b[0m\u001b[31m\r\n",
      "\u001b[0mSuccessfully installed execnb-0.1.6 fastcore-1.7.4 ghapi-1.0.6 nbdev-2.3.29 watchdog-5.0.2\r\n"
     ]
    }
   ],
   "source": [
    "!pip install -U nbdev"
   ]
  },
  {
   "cell_type": "code",
   "execution_count": 2,
   "id": "0305425b",
   "metadata": {
    "execution": {
     "iopub.execute_input": "2024-09-06T21:45:39.459520Z",
     "iopub.status.busy": "2024-09-06T21:45:39.459031Z",
     "iopub.status.idle": "2024-09-06T21:45:44.994875Z",
     "shell.execute_reply": "2024-09-06T21:45:44.993036Z"
    },
    "papermill": {
     "duration": 5.550728,
     "end_time": "2024-09-06T21:45:44.998839",
     "exception": false,
     "start_time": "2024-09-06T21:45:39.448111",
     "status": "completed"
    },
    "tags": []
   },
   "outputs": [
    {
     "name": "stdout",
     "output_type": "stream",
     "text": [
      "settings.ini created.\r\n",
      "/bin/sh: 1: quarto: not found\r\n"
     ]
    }
   ],
   "source": [
    "!nbdev_new --lib_name isic_helper --repo isic-helper --branch master --user utkarsh --author Utkarsh --author_email itsmedjut@gmail.com --description helper_functions_for_isic_2024"
   ]
  },
  {
   "cell_type": "code",
   "execution_count": 3,
   "id": "c816d52b",
   "metadata": {
    "execution": {
     "iopub.execute_input": "2024-09-06T21:45:45.018576Z",
     "iopub.status.busy": "2024-09-06T21:45:45.018071Z",
     "iopub.status.idle": "2024-09-06T21:45:45.027072Z",
     "shell.execute_reply": "2024-09-06T21:45:45.024159Z"
    },
    "papermill": {
     "duration": 0.023108,
     "end_time": "2024-09-06T21:45:45.030798",
     "exception": false,
     "start_time": "2024-09-06T21:45:45.007690",
     "status": "completed"
    },
    "tags": []
   },
   "outputs": [],
   "source": [
    "#|default_exp isic_helper"
   ]
  },
  {
   "cell_type": "code",
   "execution_count": 4,
   "id": "f1c76c0e",
   "metadata": {
    "execution": {
     "iopub.execute_input": "2024-09-06T21:45:45.052074Z",
     "iopub.status.busy": "2024-09-06T21:45:45.051586Z",
     "iopub.status.idle": "2024-09-06T21:45:57.413137Z",
     "shell.execute_reply": "2024-09-06T21:45:57.411448Z"
    },
    "papermill": {
     "duration": 12.376127,
     "end_time": "2024-09-06T21:45:57.416644",
     "exception": false,
     "start_time": "2024-09-06T21:45:45.040517",
     "status": "completed"
    },
    "tags": []
   },
   "outputs": [],
   "source": [
    "#|export\n",
    "import h5py\n",
    "from io import BytesIO\n",
    "from tqdm import tqdm\n",
    "\n",
    "from fastai.vision.all import *\n",
    "from fastai.tabular.all import *\n",
    "\n",
    "import numpy as np\n",
    "from sklearn.model_selection import train_test_split\n",
    "from sklearn.metrics import roc_curve, auc"
   ]
  },
  {
   "cell_type": "code",
   "execution_count": 5,
   "id": "88d7469e",
   "metadata": {
    "execution": {
     "iopub.execute_input": "2024-09-06T21:45:57.436205Z",
     "iopub.status.busy": "2024-09-06T21:45:57.435713Z",
     "iopub.status.idle": "2024-09-06T21:45:57.445623Z",
     "shell.execute_reply": "2024-09-06T21:45:57.443982Z"
    },
    "papermill": {
     "duration": 0.023238,
     "end_time": "2024-09-06T21:45:57.448662",
     "exception": false,
     "start_time": "2024-09-06T21:45:57.425424",
     "status": "completed"
    },
    "tags": []
   },
   "outputs": [],
   "source": [
    "#|export\n",
    "def get_img_data(train_path, test_path, df):\n",
    "    imgs_data = {}\n",
    "    _df = df.set_index(\"isic_id\")\n",
    "    with h5py.File(train_path, 'r') as f:\n",
    "        for key in tqdm(f.keys(), desc=\"Reading train files\"):\n",
    "            img_data = BytesIO(f[key][()])\n",
    "            imgs_data[key] = img_data, _df.loc[key, \"target\"]\n",
    "    with h5py.File(test_path, 'r') as f:\n",
    "        for key in tqdm(f.keys(), desc=\"Reading test files\"):\n",
    "            img_data = BytesIO(f[key][()])\n",
    "            imgs_data[key] = img_data,\n",
    "    return imgs_data"
   ]
  },
  {
   "cell_type": "code",
   "execution_count": 6,
   "id": "13147095",
   "metadata": {
    "execution": {
     "iopub.execute_input": "2024-09-06T21:45:57.468282Z",
     "iopub.status.busy": "2024-09-06T21:45:57.467726Z",
     "iopub.status.idle": "2024-09-06T21:45:57.477561Z",
     "shell.execute_reply": "2024-09-06T21:45:57.476118Z"
    },
    "papermill": {
     "duration": 0.022898,
     "end_time": "2024-09-06T21:45:57.480465",
     "exception": false,
     "start_time": "2024-09-06T21:45:57.457567",
     "status": "completed"
    },
    "tags": []
   },
   "outputs": [],
   "source": [
    "#|export\n",
    "def sample(idx, df, do_up, ratio):\n",
    "    cond = df.loc[idx,\"target\"]==1\n",
    "    pos_idx, neg_idx = idx[cond], idx[~cond]\n",
    "    \n",
    "    n_pos, n_neg = len(pos_idx), len(neg_idx)\n",
    "    if do_up: pos_idx = np.tile(pos_idx, int(ratio*n_neg/n_pos))\n",
    "    else: neg_idx = np.random.choice(neg_idx, int(n_pos/ratio) ,replace=False)\n",
    "    \n",
    "    sampled_idx = np.concatenate([pos_idx, neg_idx])\n",
    "    np.random.shuffle(sampled_idx); return sampled_idx"
   ]
  },
  {
   "cell_type": "code",
   "execution_count": 7,
   "id": "5f578a2f",
   "metadata": {
    "execution": {
     "iopub.execute_input": "2024-09-06T21:45:57.499136Z",
     "iopub.status.busy": "2024-09-06T21:45:57.498508Z",
     "iopub.status.idle": "2024-09-06T21:45:57.507172Z",
     "shell.execute_reply": "2024-09-06T21:45:57.505925Z"
    },
    "papermill": {
     "duration": 0.021212,
     "end_time": "2024-09-06T21:45:57.509991",
     "exception": false,
     "start_time": "2024-09-06T21:45:57.488779",
     "status": "completed"
    },
    "tags": []
   },
   "outputs": [],
   "source": [
    "#|export      \n",
    "def sampled_splitter(items, df, do_up=False, ratio=1):\n",
    "    patient_ids = df[\"patient_id\"].unique()\n",
    "    train_patients, _ = train_test_split(patient_ids, test_size=0.2)\n",
    "    \n",
    "    _df = df.set_index(\"isic_id\")\n",
    "    cond = _df.loc[items, \"patient_id\"].isin(train_patients)\n",
    "    train_idx, valid_idx =  np.where(cond)[0], np.where(~cond)[0]\n",
    "    \n",
    "    train_idx = sample(train_idx, df, do_up, ratio)\n",
    "    return list(train_idx), list(valid_idx)"
   ]
  },
  {
   "cell_type": "code",
   "execution_count": 8,
   "id": "dd6bf2d9",
   "metadata": {
    "execution": {
     "iopub.execute_input": "2024-09-06T21:45:57.529056Z",
     "iopub.status.busy": "2024-09-06T21:45:57.528508Z",
     "iopub.status.idle": "2024-09-06T21:45:57.542249Z",
     "shell.execute_reply": "2024-09-06T21:45:57.540973Z"
    },
    "papermill": {
     "duration": 0.026821,
     "end_time": "2024-09-06T21:45:57.545331",
     "exception": false,
     "start_time": "2024-09-06T21:45:57.518510",
     "status": "completed"
    },
    "tags": []
   },
   "outputs": [],
   "source": [
    "#|export\n",
    "def p_AUC(targs, preds, tpr_thresh=0.8):\n",
    "    if len(targs) == 0: return None\n",
    "    v_gt = abs(np.array(targs) - 1)\n",
    "    v_pred = -1.0 * np.array(preds)\n",
    "    \n",
    "    if np.any(np.isnan(v_pred)) or np.any(np.isinf(v_pred)):\n",
    "        idx_nan = np.where(np.isnan(v_pred))[0]\n",
    "        print('NaN predictions: ', v_pred[idx_nan])\n",
    "        idx_inf = np.where(np.isinf(v_pred))[0]\n",
    "        print('Inf predictions: ', v_pred[idx_inf])\n",
    "        raise ValueError(\"Nan or inf values in predictions\")\n",
    "\n",
    "    fpr, tpr, _ = roc_curve(v_gt, v_pred)\n",
    "    max_fpr = abs(1 - tpr_thresh)\n",
    "\n",
    "    stop = np.searchsorted(fpr, max_fpr, \"right\")\n",
    "    if stop == len(fpr): stop -= 1\n",
    "    x_interp = [fpr[stop - 1], fpr[stop]]\n",
    "    y_interp = [tpr[stop - 1], tpr[stop]]\n",
    "    tpr = np.append(tpr[:stop], np.interp(max_fpr, x_interp, y_interp))\n",
    "    fpr = np.append(fpr[:stop], max_fpr)\n",
    "\n",
    "    return auc(fpr, tpr)"
   ]
  },
  {
   "cell_type": "code",
   "execution_count": 9,
   "id": "a59d9486",
   "metadata": {
    "execution": {
     "iopub.execute_input": "2024-09-06T21:45:57.565064Z",
     "iopub.status.busy": "2024-09-06T21:45:57.564532Z",
     "iopub.status.idle": "2024-09-06T21:45:57.574629Z",
     "shell.execute_reply": "2024-09-06T21:45:57.572828Z"
    },
    "papermill": {
     "duration": 0.023835,
     "end_time": "2024-09-06T21:45:57.577811",
     "exception": false,
     "start_time": "2024-09-06T21:45:57.553976",
     "status": "completed"
    },
    "tags": []
   },
   "outputs": [],
   "source": [
    "#|export\n",
    "class pAUCMetric(Metric):\n",
    "    def reset(self): self.targs=[]; self.preds=[]\n",
    "        \n",
    "    def accumulate(self, learn):\n",
    "        preds, targs = learn.pred, learn.y\n",
    "        self.preds.extend(preds.cpu().numpy())\n",
    "        self.targs.extend(targs.cpu().numpy())\n",
    "\n",
    "    @property\n",
    "    def value(self): return p_AUC(self.targs, self.preds)\n",
    "    \n",
    "    @property\n",
    "    def name(self): return \"pAUC\""
   ]
  },
  {
   "cell_type": "code",
   "execution_count": 10,
   "id": "979c0f30",
   "metadata": {
    "execution": {
     "iopub.execute_input": "2024-09-06T21:45:57.598518Z",
     "iopub.status.busy": "2024-09-06T21:45:57.597985Z",
     "iopub.status.idle": "2024-09-06T21:45:57.605665Z",
     "shell.execute_reply": "2024-09-06T21:45:57.604441Z"
    },
    "papermill": {
     "duration": 0.020965,
     "end_time": "2024-09-06T21:45:57.608699",
     "exception": false,
     "start_time": "2024-09-06T21:45:57.587734",
     "status": "completed"
    },
    "tags": []
   },
   "outputs": [],
   "source": [
    "#|export\n",
    "def flat_BCE_with_logits(preds, targs, ratio):\n",
    "    targs = targs.unsqueeze(1).float()\n",
    "    pos_wt = torch.tensor(1/ratio, dtype=torch.float)\n",
    "    \n",
    "    return torch.nn.BCEWithLogitsLoss(pos_weight=pos_wt)(preds, targs)"
   ]
  },
  {
   "cell_type": "code",
   "execution_count": 11,
   "id": "8678a100",
   "metadata": {
    "execution": {
     "iopub.execute_input": "2024-09-06T21:45:57.627109Z",
     "iopub.status.busy": "2024-09-06T21:45:57.626598Z",
     "iopub.status.idle": "2024-09-06T21:45:57.853830Z",
     "shell.execute_reply": "2024-09-06T21:45:57.852277Z"
    },
    "papermill": {
     "duration": 0.240071,
     "end_time": "2024-09-06T21:45:57.856954",
     "exception": false,
     "start_time": "2024-09-06T21:45:57.616883",
     "status": "completed"
    },
    "tags": []
   },
   "outputs": [],
   "source": [
    "%notebook ISIC_Helper.ipynb"
   ]
  },
  {
   "cell_type": "code",
   "execution_count": 12,
   "id": "01d7b370",
   "metadata": {
    "execution": {
     "iopub.execute_input": "2024-09-06T21:45:57.875653Z",
     "iopub.status.busy": "2024-09-06T21:45:57.875156Z",
     "iopub.status.idle": "2024-09-06T21:45:58.500605Z",
     "shell.execute_reply": "2024-09-06T21:45:58.499167Z"
    },
    "papermill": {
     "duration": 0.638369,
     "end_time": "2024-09-06T21:45:58.503702",
     "exception": false,
     "start_time": "2024-09-06T21:45:57.865333",
     "status": "completed"
    },
    "tags": []
   },
   "outputs": [],
   "source": [
    "from nbdev.export import nb_export\n",
    "nb_export('ISIC_Helper.ipynb', '.')"
   ]
  },
  {
   "cell_type": "code",
   "execution_count": 13,
   "id": "0cd592a4",
   "metadata": {
    "execution": {
     "iopub.execute_input": "2024-09-06T21:45:58.523098Z",
     "iopub.status.busy": "2024-09-06T21:45:58.522626Z",
     "iopub.status.idle": "2024-09-06T21:45:59.707905Z",
     "shell.execute_reply": "2024-09-06T21:45:59.706122Z"
    },
    "papermill": {
     "duration": 1.198531,
     "end_time": "2024-09-06T21:45:59.710995",
     "exception": false,
     "start_time": "2024-09-06T21:45:58.512464",
     "status": "completed"
    },
    "tags": []
   },
   "outputs": [
    {
     "name": "stdout",
     "output_type": "stream",
     "text": [
      "# AUTOGENERATED! DO NOT EDIT! File to edit: ISIC_Helper.ipynb.\r\n",
      "\r\n",
      "# %% auto 0\r\n",
      "__all__ = ['get_img_data', 'sample', 'sampled_splitter', 'p_AUC', 'pAUCMetric', 'flat_BCE_with_logits']\r\n",
      "\r\n",
      "# %% ISIC_Helper.ipynb 3\r\n",
      "import h5py\r\n",
      "from io import BytesIO\r\n",
      "from tqdm import tqdm\r\n",
      "\r\n",
      "from fastai.vision.all import *\r\n",
      "from fastai.tabular.all import *\r\n",
      "\r\n",
      "import numpy as np\r\n",
      "from sklearn.model_selection import train_test_split\r\n",
      "from sklearn.metrics import roc_curve, auc\r\n",
      "\r\n",
      "# %% ISIC_Helper.ipynb 4\r\n",
      "def get_img_data(train_path, test_path, df):\r\n",
      "    imgs_data = {}\r\n",
      "    _df = df.set_index(\"isic_id\")\r\n",
      "    with h5py.File(train_path, 'r') as f:\r\n",
      "        for key in tqdm(f.keys(), desc=\"Reading train files\"):\r\n",
      "            img_data = BytesIO(f[key][()])\r\n",
      "            imgs_data[key] = img_data, _df.loc[key, \"target\"]\r\n",
      "    with h5py.File(test_path, 'r') as f:\r\n",
      "        for key in tqdm(f.keys(), desc=\"Reading test files\"):\r\n",
      "            img_data = BytesIO(f[key][()])\r\n",
      "            imgs_data[key] = img_data,\r\n",
      "    return imgs_data\r\n",
      "\r\n",
      "# %% ISIC_Helper.ipynb 5\r\n",
      "def sample(idx, df, do_up, ratio):\r\n",
      "    cond = df.loc[idx,\"target\"]==1\r\n",
      "    pos_idx, neg_idx = idx[cond], idx[~cond]\r\n",
      "    \r\n",
      "    n_pos, n_neg = len(pos_idx), len(neg_idx)\r\n",
      "    if do_up: pos_idx = np.tile(pos_idx, int(ratio*n_neg/n_pos))\r\n",
      "    else: neg_idx = np.random.choice(neg_idx, int(n_pos/ratio) ,replace=False)\r\n",
      "    \r\n",
      "    sampled_idx = np.concatenate([pos_idx, neg_idx])\r\n",
      "    np.random.shuffle(sampled_idx); return sampled_idx\r\n",
      "\r\n",
      "# %% ISIC_Helper.ipynb 6\r\n",
      "def sampled_splitter(items, df, do_up=False, ratio=1):\r\n",
      "    patient_ids = df[\"patient_id\"].unique()\r\n",
      "    train_patients, _ = train_test_split(patient_ids, test_size=0.2)\r\n",
      "    \r\n",
      "    _df = df.set_index(\"isic_id\")\r\n",
      "    cond = _df.loc[items, \"patient_id\"].isin(train_patients)\r\n",
      "    train_idx, valid_idx =  np.where(cond)[0], np.where(~cond)[0]\r\n",
      "    \r\n",
      "    train_idx = sample(train_idx, df, do_up, ratio)\r\n",
      "    return list(train_idx), list(valid_idx)\r\n",
      "\r\n",
      "# %% ISIC_Helper.ipynb 7\r\n",
      "def p_AUC(targs, preds, tpr_thresh=0.8):\r\n",
      "    if len(targs) == 0: return None\r\n",
      "    v_gt = abs(np.array(targs) - 1)\r\n",
      "    v_pred = -1.0 * np.array(preds)\r\n",
      "    \r\n",
      "    if np.any(np.isnan(v_pred)) or np.any(np.isinf(v_pred)):\r\n",
      "        idx_nan = np.where(np.isnan(v_pred))[0]\r\n",
      "        print('NaN predictions: ', v_pred[idx_nan])\r\n",
      "        idx_inf = np.where(np.isinf(v_pred))[0]\r\n",
      "        print('Inf predictions: ', v_pred[idx_inf])\r\n",
      "        raise ValueError(\"Nan or inf values in predictions\")\r\n",
      "\r\n",
      "    fpr, tpr, _ = roc_curve(v_gt, v_pred)\r\n",
      "    max_fpr = abs(1 - tpr_thresh)\r\n",
      "\r\n",
      "    stop = np.searchsorted(fpr, max_fpr, \"right\")\r\n",
      "    if stop == len(fpr): stop -= 1\r\n",
      "    x_interp = [fpr[stop - 1], fpr[stop]]\r\n",
      "    y_interp = [tpr[stop - 1], tpr[stop]]\r\n",
      "    tpr = np.append(tpr[:stop], np.interp(max_fpr, x_interp, y_interp))\r\n",
      "    fpr = np.append(fpr[:stop], max_fpr)\r\n",
      "\r\n",
      "    return auc(fpr, tpr)\r\n",
      "\r\n",
      "# %% ISIC_Helper.ipynb 8\r\n",
      "class pAUCMetric(Metric):\r\n",
      "    def reset(self): self.targs=[]; self.preds=[]\r\n",
      "        \r\n",
      "    def accumulate(self, learn):\r\n",
      "        preds, targs = learn.pred, learn.y\r\n",
      "        self.preds.extend(preds.cpu().numpy())\r\n",
      "        self.targs.extend(targs.cpu().numpy())\r\n",
      "\r\n",
      "    @property\r\n",
      "    def value(self): return p_AUC(self.targs, self.preds)\r\n",
      "    \r\n",
      "    @property\r\n",
      "    def name(self): return \"pAUC\"\r\n",
      "\r\n",
      "# %% ISIC_Helper.ipynb 9\r\n",
      "def flat_BCE_with_logits(preds, targs, ratio):\r\n",
      "    targs = targs.unsqueeze(1).float()\r\n",
      "    pos_wt = torch.tensor(1/ratio, dtype=torch.float)\r\n",
      "    \r\n",
      "    return torch.nn.BCEWithLogitsLoss(pos_weight=pos_wt)(preds, targs)\r\n"
     ]
    }
   ],
   "source": [
    "!cat isic_helper.py"
   ]
  }
 ],
 "metadata": {
  "kaggle": {
   "accelerator": "none",
   "dataSources": [
    {
     "databundleVersionId": 9094797,
     "sourceId": 63056,
     "sourceType": "competition"
    }
   ],
   "dockerImageVersionId": 30761,
   "isGpuEnabled": false,
   "isInternetEnabled": true,
   "language": "python",
   "sourceType": "notebook"
  },
  "kernelspec": {
   "display_name": "Python 3",
   "language": "python",
   "name": "python3"
  },
  "language_info": {
   "codemirror_mode": {
    "name": "ipython",
    "version": 3
   },
   "file_extension": ".py",
   "mimetype": "text/x-python",
   "name": "python",
   "nbconvert_exporter": "python",
   "pygments_lexer": "ipython3",
   "version": "3.10.14"
  },
  "papermill": {
   "default_parameters": {},
   "duration": 47.618657,
   "end_time": "2024-09-06T21:46:02.177446",
   "environment_variables": {},
   "exception": null,
   "input_path": "__notebook__.ipynb",
   "output_path": "__notebook__.ipynb",
   "parameters": {},
   "start_time": "2024-09-06T21:45:14.558789",
   "version": "2.6.0"
  }
 },
 "nbformat": 4,
 "nbformat_minor": 5
}
