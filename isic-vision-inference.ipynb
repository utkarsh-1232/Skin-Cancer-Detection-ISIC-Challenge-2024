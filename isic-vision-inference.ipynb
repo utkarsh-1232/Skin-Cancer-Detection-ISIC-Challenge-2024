{
 "cells": [
  {
   "cell_type": "markdown",
   "id": "31daf832",
   "metadata": {
    "papermill": {
     "duration": 0.00453,
     "end_time": "2024-09-05T10:08:26.001383",
     "exception": false,
     "start_time": "2024-09-05T10:08:25.996853",
     "status": "completed"
    },
    "tags": []
   },
   "source": [
    "# Importing Data and Dependencies"
   ]
  },
  {
   "cell_type": "code",
   "execution_count": 1,
   "id": "9acf81a5",
   "metadata": {
    "execution": {
     "iopub.execute_input": "2024-09-05T10:08:26.011016Z",
     "iopub.status.busy": "2024-09-05T10:08:26.010675Z",
     "iopub.status.idle": "2024-09-05T10:08:49.167437Z",
     "shell.execute_reply": "2024-09-05T10:08:49.166295Z"
    },
    "papermill": {
     "duration": 23.164319,
     "end_time": "2024-09-05T10:08:49.169991",
     "exception": false,
     "start_time": "2024-09-05T10:08:26.005672",
     "status": "completed"
    },
    "tags": []
   },
   "outputs": [],
   "source": [
    "import numpy as np\n",
    "import pandas as pd\n",
    "from fastai.vision.all import *\n",
    "\n",
    "!pip install -Uqq fastkaggle --no-index --find-links=file:///kaggle/input/library-fastkaggle/\n",
    "from fastkaggle import *\n",
    "\n",
    "from shutil import copyfile\n",
    "copyfile(src = \"../input/isic-vision/isic_helper.py\", dst = \"../working/isic_helper.py\")\n",
    "from isic_helper import *"
   ]
  },
  {
   "cell_type": "code",
   "execution_count": 2,
   "id": "df5d4523",
   "metadata": {
    "execution": {
     "iopub.execute_input": "2024-09-05T10:08:49.179565Z",
     "iopub.status.busy": "2024-09-05T10:08:49.179253Z",
     "iopub.status.idle": "2024-09-05T10:08:49.186906Z",
     "shell.execute_reply": "2024-09-05T10:08:49.186085Z"
    },
    "papermill": {
     "duration": 0.014562,
     "end_time": "2024-09-05T10:08:49.188837",
     "exception": false,
     "start_time": "2024-09-05T10:08:49.174275",
     "status": "completed"
    },
    "tags": []
   },
   "outputs": [
    {
     "data": {
      "text/plain": [
       "(#6) [Path('../input/isic-2024-challenge/sample_submission.csv'),Path('../input/isic-2024-challenge/train-metadata.csv'),Path('../input/isic-2024-challenge/test-metadata.csv'),Path('../input/isic-2024-challenge/test-image.hdf5'),Path('../input/isic-2024-challenge/train-image'),Path('../input/isic-2024-challenge/train-image.hdf5')]"
      ]
     },
     "execution_count": 2,
     "metadata": {},
     "output_type": "execute_result"
    }
   ],
   "source": [
    "path = setup_comp('isic-2024-challenge')\n",
    "path.ls()"
   ]
  },
  {
   "cell_type": "code",
   "execution_count": 3,
   "id": "1ade213e",
   "metadata": {
    "execution": {
     "iopub.execute_input": "2024-09-05T10:08:49.197949Z",
     "iopub.status.busy": "2024-09-05T10:08:49.197686Z",
     "iopub.status.idle": "2024-09-05T10:08:58.307724Z",
     "shell.execute_reply": "2024-09-05T10:08:58.306807Z"
    },
    "papermill": {
     "duration": 9.11756,
     "end_time": "2024-09-05T10:08:58.310530",
     "exception": false,
     "start_time": "2024-09-05T10:08:49.192970",
     "status": "completed"
    },
    "tags": []
   },
   "outputs": [],
   "source": [
    "df = pd.read_csv(path/'train-metadata.csv', low_memory=False)\n",
    "test_df = pd.read_csv(path/'test-metadata.csv', low_memory=False)"
   ]
  },
  {
   "cell_type": "code",
   "execution_count": 4,
   "id": "8672b696",
   "metadata": {
    "execution": {
     "iopub.execute_input": "2024-09-05T10:08:58.320368Z",
     "iopub.status.busy": "2024-09-05T10:08:58.320081Z",
     "iopub.status.idle": "2024-09-05T10:11:51.320038Z",
     "shell.execute_reply": "2024-09-05T10:11:51.319061Z"
    },
    "papermill": {
     "duration": 173.007119,
     "end_time": "2024-09-05T10:11:51.322080",
     "exception": false,
     "start_time": "2024-09-05T10:08:58.314961",
     "status": "completed"
    },
    "tags": []
   },
   "outputs": [
    {
     "name": "stderr",
     "output_type": "stream",
     "text": [
      "Reading train files: 100%|██████████| 401059/401059 [01:49<00:00, 3678.68it/s]\n",
      "Reading test files: 100%|██████████| 3/3 [00:00<00:00, 179.37it/s]\n"
     ]
    }
   ],
   "source": [
    "img_path = path/'train-image.hdf5'\n",
    "test_img_path = path/'test-image.hdf5'\n",
    "\n",
    "imgs_data = get_img_data(img_path, test_img_path, df)"
   ]
  },
  {
   "cell_type": "markdown",
   "id": "85c7edba",
   "metadata": {
    "papermill": {
     "duration": 0.084151,
     "end_time": "2024-09-05T10:11:51.491444",
     "exception": false,
     "start_time": "2024-09-05T10:11:51.407293",
     "status": "completed"
    },
    "tags": []
   },
   "source": [
    "# Submission"
   ]
  },
  {
   "cell_type": "code",
   "execution_count": 5,
   "id": "c5025560",
   "metadata": {
    "execution": {
     "iopub.execute_input": "2024-09-05T10:11:51.660562Z",
     "iopub.status.busy": "2024-09-05T10:11:51.660165Z",
     "iopub.status.idle": "2024-09-05T10:11:51.665369Z",
     "shell.execute_reply": "2024-09-05T10:11:51.664459Z"
    },
    "papermill": {
     "duration": 0.091962,
     "end_time": "2024-09-05T10:11:51.667337",
     "exception": false,
     "start_time": "2024-09-05T10:11:51.575375",
     "status": "completed"
    },
    "tags": []
   },
   "outputs": [],
   "source": [
    "def get_items(path): return df.isic_id\n",
    "\n",
    "def get_x(key): return PILImage.create(imgs_data[key][0])\n",
    "\n",
    "def get_y(key): return imgs_data[key][1]"
   ]
  },
  {
   "cell_type": "code",
   "execution_count": 6,
   "id": "073635b0",
   "metadata": {
    "execution": {
     "iopub.execute_input": "2024-09-05T10:11:51.887681Z",
     "iopub.status.busy": "2024-09-05T10:11:51.887319Z",
     "iopub.status.idle": "2024-09-05T10:11:51.892152Z",
     "shell.execute_reply": "2024-09-05T10:11:51.891319Z"
    },
    "papermill": {
     "duration": 0.14225,
     "end_time": "2024-09-05T10:11:51.894011",
     "exception": false,
     "start_time": "2024-09-05T10:11:51.751761",
     "status": "completed"
    },
    "tags": []
   },
   "outputs": [],
   "source": [
    "def loss_func(targs, preds): return flat_BCE_with_logits(targs, preds, ratio=3/2)"
   ]
  },
  {
   "cell_type": "code",
   "execution_count": 7,
   "id": "e1d862dc",
   "metadata": {
    "execution": {
     "iopub.execute_input": "2024-09-05T10:11:52.064796Z",
     "iopub.status.busy": "2024-09-05T10:11:52.064096Z",
     "iopub.status.idle": "2024-09-05T10:11:54.851853Z",
     "shell.execute_reply": "2024-09-05T10:11:54.851096Z"
    },
    "papermill": {
     "duration": 2.875718,
     "end_time": "2024-09-05T10:11:54.854075",
     "exception": false,
     "start_time": "2024-09-05T10:11:51.978357",
     "status": "completed"
    },
    "tags": []
   },
   "outputs": [],
   "source": [
    "learn = load_learner(\"../input/isic-vision/fitted_resnet18.pkl\", cpu=False)"
   ]
  },
  {
   "cell_type": "code",
   "execution_count": 8,
   "id": "ae108088",
   "metadata": {
    "execution": {
     "iopub.execute_input": "2024-09-05T10:11:55.024087Z",
     "iopub.status.busy": "2024-09-05T10:11:55.023379Z",
     "iopub.status.idle": "2024-09-05T10:11:55.063516Z",
     "shell.execute_reply": "2024-09-05T10:11:55.062694Z"
    },
    "papermill": {
     "duration": 0.127162,
     "end_time": "2024-09-05T10:11:55.065493",
     "exception": false,
     "start_time": "2024-09-05T10:11:54.938331",
     "status": "completed"
    },
    "tags": []
   },
   "outputs": [],
   "source": [
    "test_keys = list(test_df.isic_id)\n",
    "test_dl = learn.dls.test_dl(test_keys, with_labels=False)"
   ]
  },
  {
   "cell_type": "code",
   "execution_count": 9,
   "id": "172a20fa",
   "metadata": {
    "execution": {
     "iopub.execute_input": "2024-09-05T10:11:55.235097Z",
     "iopub.status.busy": "2024-09-05T10:11:55.234746Z",
     "iopub.status.idle": "2024-09-05T10:11:58.362740Z",
     "shell.execute_reply": "2024-09-05T10:11:58.361811Z"
    },
    "papermill": {
     "duration": 3.214428,
     "end_time": "2024-09-05T10:11:58.364805",
     "exception": false,
     "start_time": "2024-09-05T10:11:55.150377",
     "status": "completed"
    },
    "tags": []
   },
   "outputs": [
    {
     "data": {
      "text/html": [
       "\n",
       "<style>\n",
       "    /* Turns off some styling */\n",
       "    progress {\n",
       "        /* gets rid of default border in Firefox and Opera. */\n",
       "        border: none;\n",
       "        /* Needs to be in here for Safari polyfill so background images work as expected. */\n",
       "        background-size: auto;\n",
       "    }\n",
       "    progress:not([value]), progress:not([value])::-webkit-progress-bar {\n",
       "        background: repeating-linear-gradient(45deg, #7e7e7e, #7e7e7e 10px, #5c5c5c 10px, #5c5c5c 20px);\n",
       "    }\n",
       "    .progress-bar-interrupted, .progress-bar-interrupted::-webkit-progress-bar {\n",
       "        background: #F44336;\n",
       "    }\n",
       "</style>\n"
      ],
      "text/plain": [
       "<IPython.core.display.HTML object>"
      ]
     },
     "metadata": {},
     "output_type": "display_data"
    },
    {
     "data": {
      "text/html": [
       "\n",
       "    <div>\n",
       "      <progress value='0' class='' max='5' style='width:300px; height:20px; vertical-align: middle;'></progress>\n",
       "      \n",
       "    </div>\n",
       "    \n"
      ],
      "text/plain": [
       "<IPython.core.display.HTML object>"
      ]
     },
     "metadata": {},
     "output_type": "display_data"
    },
    {
     "data": {
      "text/html": [
       "\n",
       "<style>\n",
       "    /* Turns off some styling */\n",
       "    progress {\n",
       "        /* gets rid of default border in Firefox and Opera. */\n",
       "        border: none;\n",
       "        /* Needs to be in here for Safari polyfill so background images work as expected. */\n",
       "        background-size: auto;\n",
       "    }\n",
       "    progress:not([value]), progress:not([value])::-webkit-progress-bar {\n",
       "        background: repeating-linear-gradient(45deg, #7e7e7e, #7e7e7e 10px, #5c5c5c 10px, #5c5c5c 20px);\n",
       "    }\n",
       "    .progress-bar-interrupted, .progress-bar-interrupted::-webkit-progress-bar {\n",
       "        background: #F44336;\n",
       "    }\n",
       "</style>\n"
      ],
      "text/plain": [
       "<IPython.core.display.HTML object>"
      ]
     },
     "metadata": {},
     "output_type": "display_data"
    },
    {
     "data": {
      "text/html": [],
      "text/plain": [
       "<IPython.core.display.HTML object>"
      ]
     },
     "metadata": {},
     "output_type": "display_data"
    }
   ],
   "source": [
    "test_preds = learn.tta(dl=test_dl)[0]\n",
    "\n",
    "submission = pd.DataFrame({\"isic_id\":test_keys, \"target\":test_preds.numpy().reshape(-1)})\n",
    "submission.to_csv(\"submission.csv\", index=False)"
   ]
  },
  {
   "cell_type": "code",
   "execution_count": 10,
   "id": "47a703b0",
   "metadata": {
    "execution": {
     "iopub.execute_input": "2024-09-05T10:11:58.539195Z",
     "iopub.status.busy": "2024-09-05T10:11:58.538493Z",
     "iopub.status.idle": "2024-09-05T10:11:59.602782Z",
     "shell.execute_reply": "2024-09-05T10:11:59.601615Z"
    },
    "papermill": {
     "duration": 1.154595,
     "end_time": "2024-09-05T10:11:59.604953",
     "exception": false,
     "start_time": "2024-09-05T10:11:58.450358",
     "status": "completed"
    },
    "tags": []
   },
   "outputs": [
    {
     "name": "stdout",
     "output_type": "stream",
     "text": [
      "isic_id,target\r\n",
      "ISIC_0015657,-2.4701843\r\n",
      "ISIC_0015729,-5.6064453\r\n",
      "ISIC_0015740,-3.5679932\r\n"
     ]
    }
   ],
   "source": [
    "!head submission.csv"
   ]
  },
  {
   "cell_type": "code",
   "execution_count": null,
   "id": "28137cda",
   "metadata": {
    "papermill": {
     "duration": 0.085034,
     "end_time": "2024-09-05T10:11:59.775149",
     "exception": false,
     "start_time": "2024-09-05T10:11:59.690115",
     "status": "completed"
    },
    "tags": []
   },
   "outputs": [],
   "source": []
  }
 ],
 "metadata": {
  "kaggle": {
   "accelerator": "gpu",
   "dataSources": [
    {
     "databundleVersionId": 9094797,
     "sourceId": 63056,
     "sourceType": "competition"
    },
    {
     "datasetId": 3934666,
     "sourceId": 6844262,
     "sourceType": "datasetVersion"
    },
    {
     "sourceId": 195409370,
     "sourceType": "kernelVersion"
    }
   ],
   "dockerImageVersionId": 30746,
   "isGpuEnabled": true,
   "isInternetEnabled": false,
   "language": "python",
   "sourceType": "notebook"
  },
  "kernelspec": {
   "display_name": "Python 3",
   "language": "python",
   "name": "python3"
  },
  "language_info": {
   "codemirror_mode": {
    "name": "ipython",
    "version": 3
   },
   "file_extension": ".py",
   "mimetype": "text/x-python",
   "name": "python",
   "nbconvert_exporter": "python",
   "pygments_lexer": "ipython3",
   "version": "3.10.13"
  },
  "papermill": {
   "default_parameters": {},
   "duration": 220.313432,
   "end_time": "2024-09-05T10:12:03.508155",
   "environment_variables": {},
   "exception": null,
   "input_path": "__notebook__.ipynb",
   "output_path": "__notebook__.ipynb",
   "parameters": {},
   "start_time": "2024-09-05T10:08:23.194723",
   "version": "2.5.0"
  }
 },
 "nbformat": 4,
 "nbformat_minor": 5
}
